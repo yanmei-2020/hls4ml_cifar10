{
 "cells": [
  {
   "cell_type": "markdown",
   "id": "3c39651b",
   "metadata": {},
   "source": [
    "# Part 6: Board Test"
   ]
  },
  {
   "cell_type": "markdown",
   "id": "efb9f0eb",
   "metadata": {},
   "source": [
    "This notebook is to run on the PYNQ! You'll need the bitfile and test dataset file from part 5.\n",
    "We will load the bitfile we generated onto the PL of the PYNQ SoC. \n",
    "\n",
    "More details : https://pynq.readthedocs.io/en/latest/overlay_design_methodology/python_overlay_api.html"
   ]
  },
  {
   "cell_type": "code",
   "execution_count": null,
   "id": "bbbfc656",
   "metadata": {},
   "outputs": [],
   "source": [
    "from pynq import DefaultHierarchy, DefaultIP, allocate\n",
    "from pynq import Overlay\n",
    "from datetime import datetime\n",
    "import pynq.lib.dma\n",
    "import numpy as np\n",
    "\n",
    "\n",
    "class NeuralNetworkOverlay(Overlay):\n",
    "    def __init__(self, bitfile_name, dtbo=None, download=True, ignore_version=False, device=None):\n",
    "\n",
    "        super().__init__(bitfile_name, dtbo=dtbo, download=download, ignore_version=ignore_version, device=device)\n",
    "\n",
    "    def _print_dt(self, timea, timeb, N):\n",
    "        dt = (timeb - timea)\n",
    "        dts = dt.seconds + dt.microseconds * 10**-6\n",
    "        rate = N / dts\n",
    "        print(\"Classified {} samples in {} seconds ({} inferences / s)\".format(N, dts, rate))\n",
    "        return dts, rate\n",
    "    def predict(self, X, y_shape, dtype=np.float32, debug=None, profile=False, encode=None, decode=None):\n",
    "        if profile:\n",
    "            timea = datetime.now()\n",
    "        if encode is not None:\n",
    "            X = encode(X)\n",
    "        with allocate(shape=X.shape, dtype=dtype) as input_buffer, \\\n",
    "             allocate(shape=y_shape, dtype=dtype) as output_buffer:\n",
    "            input_buffer[:] = X\n",
    "            self.hier_0.axi_dma_0.sendchannel.transfer(input_buffer)\n",
    "            self.hier_0.axi_dma_0.recvchannel.transfer(output_buffer)\n",
    "            if debug:\n",
    "                print(\"Transfer OK\")\n",
    "            self.hier_0.axi_dma_0.sendchannel.wait()\n",
    "            if debug:\n",
    "                print(\"Send OK\")\n",
    "            self.hier_0.axi_dma_0.recvchannel.wait()\n",
    "            if debug:\n",
    "                print(\"Receive OK\")\n",
    "            result = output_buffer.copy()\n",
    "        if decode is not None:\n",
    "            result = decode(result)\n",
    "        if profile:\n",
    "            timeb = datetime.now()\n",
    "            dts, rate = self._print_dt(timea, timeb, len(X))\n",
    "            return result, dts, rate\n",
    "        return result\n"
   ]
  },
  {
   "cell_type": "code",
   "execution_count": null,
   "id": "9732b28a",
   "metadata": {},
   "outputs": [],
   "source": [
    "if __name__ == '__main__':\n",
    "    x_test = np.load('x_test.npy')\n",
    "    y_test = np.load('y_test.npy')\n",
    "\n",
    "    N = 100\n",
    "\n",
    "    overlay = NeuralNetworkOverlay('design_1.bit')\n",
    "\n",
    "    out = overlay.predict(x_test[:N],[N,10])\n",
    "    predicted = out.argmax(axis=1)\n",
    "\n",
    "    correct = (predicted == y_test[:N]).sum()\n",
    "    accuracy = correct / N\n",
    "\n",
    "    print(\"Model Accuracy: %.2f%%\"%(accuracy*100))\n"
   ]
  }
 ],
 "metadata": {
  "kernelspec": {
   "display_name": "Python 3 (ipykernel)",
   "language": "python",
   "name": "python3"
  },
  "language_info": {
   "codemirror_mode": {
    "name": "ipython",
    "version": 3
   },
   "file_extension": ".py",
   "mimetype": "text/x-python",
   "name": "python",
   "nbconvert_exporter": "python",
   "pygments_lexer": "ipython3",
   "version": "3.7.12"
  }
 },
 "nbformat": 4,
 "nbformat_minor": 5
}
